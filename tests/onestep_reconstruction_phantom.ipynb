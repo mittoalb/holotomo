{
 "cells": [
  {
   "cell_type": "code",
   "execution_count": 1,
   "id": "fad77fab-e206-47c1-9655-088d14fe30cb",
   "metadata": {},
   "outputs": [],
   "source": [
    "import numpy as np\n",
    "import dxchange\n",
    "import holotomo\n",
    "import matplotlib.pyplot as plt\n",
    "\n",
    "%matplotlib inline"
   ]
  },
  {
   "cell_type": "markdown",
   "id": "3c0fdd65-1cff-451e-865e-56cd8b7882a6",
   "metadata": {},
   "source": [
    "# Init data sizes and parametes of the PXM of ID16A"
   ]
  },
  {
   "cell_type": "code",
   "execution_count": 2,
   "id": "59fa16f2-1f9c-4b3a-a330-e10942f12234",
   "metadata": {},
   "outputs": [],
   "source": [
    "n = 384  # object size in x,y\n",
    "nz = 384  # object size in z    \n",
    "ntheta = 1  # number of angles (rotations)\n",
    "\n",
    "pnz = nz # tomography chunk size for GPU processing (dont change if data is small and fits gpu memory)\n",
    "ptheta = ntheta # holography chunk size for GPU processing\n",
    "\n",
    "center = n/2 # rotation axis\n",
    "theta = np.linspace(0, np.pi, ntheta).astype('float32') # projection angles\n",
    "\n",
    "# ID16a setup\n",
    "voxelsize = 1e-6*2048/n # [cm] object voxel size \n",
    "energy = 33.35  # [keV] x-ray energy    \n",
    "focusToDetectorDistance = 128 # [cm]\n",
    "sx0 = 0.037 # [cm] motor offset from the focal spot\n",
    "z1 = np.array([0.4584,0.4765,0.5488,0.69895])-sx0 # distances between planes and the focal spot\n",
    "z2 = focusToDetectorDistance-z1 # distances between planes and the detector\n",
    "magnifications = focusToDetectorDistance/z1 # actual magnifications\n",
    "norm_magnifications = magnifications/magnifications[0] # normalized magnifications\n",
    "distances = (z1*z2)/focusToDetectorDistance # propagation distances after switching from the point source wave to plane wave,\n",
    "distances = distances*norm_magnifications**2 # scaled propagation distances due to magnified probes"
   ]
  },
  {
   "cell_type": "markdown",
   "id": "49eb1696-bb30-496e-8c3d-565f2791112c",
   "metadata": {},
   "source": [
    "## Read data and flat fields"
   ]
  },
  {
   "cell_type": "code",
   "execution_count": 3,
   "id": "8a579ce4-0cd2-4769-a03d-7614aa96b0a8",
   "metadata": {},
   "outputs": [
    {
     "ename": "TypeError",
     "evalue": "'bool' object is not subscriptable",
     "output_type": "error",
     "traceback": [
      "\u001b[0;31m---------------------------------------------------------------------------\u001b[0m",
      "\u001b[0;31mTypeError\u001b[0m                                 Traceback (most recent call last)",
      "Cell \u001b[0;32mIn[3], line 4\u001b[0m\n\u001b[1;32m      2\u001b[0m flat \u001b[38;5;241m=\u001b[39m np\u001b[38;5;241m.\u001b[39mzeros([\u001b[38;5;28mlen\u001b[39m(distances),\u001b[38;5;241m1\u001b[39m,nz,n],dtype\u001b[38;5;241m=\u001b[39m\u001b[38;5;124m'\u001b[39m\u001b[38;5;124mfloat32\u001b[39m\u001b[38;5;124m'\u001b[39m)\n\u001b[1;32m      3\u001b[0m \u001b[38;5;28;01mfor\u001b[39;00m k \u001b[38;5;129;01min\u001b[39;00m \u001b[38;5;28mrange\u001b[39m(\u001b[38;5;241m4\u001b[39m):\n\u001b[0;32m----> 4\u001b[0m     data[k] \u001b[38;5;241m=\u001b[39m \u001b[43mdxchange\u001b[49m\u001b[38;5;241;43m.\u001b[39;49m\u001b[43mread_tiff\u001b[49m\u001b[43m(\u001b[49m\u001b[38;5;124;43mf\u001b[39;49m\u001b[38;5;124;43m'\u001b[39;49m\u001b[38;5;124;43mdata/modeling/data_phantom_\u001b[39;49m\u001b[38;5;132;43;01m{\u001b[39;49;00m\u001b[43mn\u001b[49m\u001b[38;5;132;43;01m}\u001b[39;49;00m\u001b[38;5;124;43m_\u001b[39;49m\u001b[38;5;132;43;01m{\u001b[39;49;00m\u001b[43mk\u001b[49m\u001b[38;5;132;43;01m}\u001b[39;49;00m\u001b[38;5;124;43m.tiff\u001b[39;49m\u001b[38;5;124;43m'\u001b[39;49m\u001b[43m)\u001b[49m\u001b[43m[\u001b[49m\u001b[43m:\u001b[49m\u001b[43mntheta\u001b[49m\u001b[43m]\u001b[49m\n\u001b[1;32m      5\u001b[0m     flat[k] \u001b[38;5;241m=\u001b[39m dxchange\u001b[38;5;241m.\u001b[39mread_tiff(\u001b[38;5;124mf\u001b[39m\u001b[38;5;124m'\u001b[39m\u001b[38;5;124mdata/modeling/flat_phantom_\u001b[39m\u001b[38;5;132;01m{\u001b[39;00mn\u001b[38;5;132;01m}\u001b[39;00m\u001b[38;5;124m_\u001b[39m\u001b[38;5;132;01m{\u001b[39;00mk\u001b[38;5;132;01m}\u001b[39;00m\u001b[38;5;124m.tiff\u001b[39m\u001b[38;5;124m'\u001b[39m)[:]\n",
      "\u001b[0;31mTypeError\u001b[0m: 'bool' object is not subscriptable"
     ]
    }
   ],
   "source": [
    "data = np.zeros([len(distances),ntheta,nz,n],dtype='float32')\n",
    "flat = np.zeros([len(distances),1,nz,n],dtype='float32')\n",
    "for k in range(4):\n",
    "    data[k] = dxchange.read_tiff(f'data/modeling/data_phantom_{n}_{k}.tiff')[:ntheta]\n",
    "    flat[k] = dxchange.read_tiff(f'data/modeling/flat_phantom_{n}_{k}.tiff')[:]"
   ]
  },
  {
   "cell_type": "markdown",
   "id": "b451e585-a921-4d2c-a093-57f44d5e00e7",
   "metadata": {},
   "source": [
    "# Divide by flat fields"
   ]
  },
  {
   "cell_type": "code",
   "execution_count": null,
   "id": "401977cd-9913-4bb9-80b7-af00fb63ebbc",
   "metadata": {},
   "outputs": [],
   "source": [
    "data/=flat"
   ]
  },
  {
   "cell_type": "code",
   "execution_count": null,
   "id": "9fbefa59-e344-470c-9971-dc8d0ad71025",
   "metadata": {},
   "outputs": [],
   "source": [
    "fig, axs = plt.subplots(2, 2, figsize=(9, 9))\n",
    "im=axs[0,0].imshow(data[0,0],cmap='gray')\n",
    "fig.colorbar(im)\n",
    "im=axs[0,1].imshow(data[1,0],cmap='gray')\n",
    "fig.colorbar(im)\n",
    "im=axs[1,0].imshow(data[2,0],cmap='gray')\n",
    "fig.colorbar(im)\n",
    "im=axs[1,1].imshow(data[3,0],cmap='gray')\n",
    "fig.colorbar(im)"
   ]
  },
  {
   "cell_type": "markdown",
   "id": "ab762843-1992-4f4a-b719-d166ec18c8ca",
   "metadata": {},
   "source": [
    "## Scale everything to one magnification"
   ]
  },
  {
   "cell_type": "code",
   "execution_count": null,
   "id": "fc12d3e2-bec2-4f77-b80a-d3f2f9b8cfab",
   "metadata": {},
   "outputs": [],
   "source": [
    "import scipy.ndimage as ndimage\n",
    "for k in range(len(distances)):\n",
    "    datas = ndimage.zoom(data[k],(1,1/norm_magnifications[k],1/norm_magnifications[k]))\n",
    "    ne = datas.shape[-1]\n",
    "    data[k] = datas[:,ne//2-n//2:ne//2+n//2,ne//2-n//2:ne//2+n//2]"
   ]
  },
  {
   "cell_type": "code",
   "execution_count": null,
   "id": "2be3a3fe-7922-40a8-8456-7a57d3169bdc",
   "metadata": {},
   "outputs": [],
   "source": [
    "fig, axs = plt.subplots(2, 2, figsize=(9, 9))\n",
    "im=axs[0,0].imshow(data[0,0],cmap='gray')\n",
    "fig.colorbar(im)\n",
    "im=axs[0,1].imshow(data[1,0],cmap='gray')\n",
    "fig.colorbar(im)\n",
    "im=axs[1,0].imshow(data[2,0],cmap='gray')\n",
    "fig.colorbar(im)\n",
    "im=axs[1,1].imshow(data[3,0],cmap='gray')\n",
    "fig.colorbar(im)"
   ]
  },
  {
   "cell_type": "markdown",
   "id": "6e58a79b-3043-48a4-b58a-409d68763f20",
   "metadata": {},
   "source": [
    "# Solve with the MultiPaganin method "
   ]
  },
  {
   "cell_type": "code",
   "execution_count": null,
   "id": "4551952b-08b9-4b91-8cfa-1db8542f8f27",
   "metadata": {},
   "outputs": [],
   "source": [
    "def multiPaganin(rads, wlen, dists, delta_beta, fx, fy, alpha):\n",
    "    \"\"\"\n",
    "    Phase retrieval method based on Contrast Transfer Function. This \n",
    "    method relies on linearization of the direct problem, based  on  the\n",
    "    first  order  Taylor expansion of the transmittance function.\n",
    "    Found in Yu et al. 2018 and adapted from Cloetens et al. 1999\n",
    "\n",
    "\n",
    "    Parameters\n",
    "    ----------\n",
    "    rad : 2D-array\n",
    "        projection.\n",
    "    wlen : float\n",
    "        X-ray wavelentgth assumes monochromatic source.\n",
    "    dist : float\n",
    "        Object to detector distance (propagation distance) in mm.\n",
    "    delta : float    \n",
    "        refractive index decrement\n",
    "    beta : float    \n",
    "        absorption index\n",
    "    fx, fy : ndarray\n",
    "        Fourier conjugate / spatial frequency coordinates of x and y.\n",
    "    alpha : float\n",
    "        regularization factor.\n",
    "        \n",
    "    Return\n",
    "    ------\n",
    "\n",
    "    phase retrieved projection in real space\n",
    "    \"\"\"    \n",
    "    numerator = 0\n",
    "    denominator = 0    \n",
    "    for j in range(0, len(dists)):    \n",
    "        rad_freq = np.fft.fft2(rads[j])    \n",
    "        taylorExp = 1 + wlen * dists[j] * np.pi * (delta_beta) * (fx**2+fy**2)\n",
    "        numerator = numerator + taylorExp * (rad_freq)\n",
    "        denominator = denominator + taylorExp**2 \n",
    "\n",
    "    numerator = numerator / len(dists)\n",
    "    denominator = (denominator / len(dists)) + alpha\n",
    "\n",
    "    phase = np.log(np.real(  np.fft.ifft2(numerator / denominator) ))    \n",
    "    phase = (delta_beta) * 0.5 * phase\n",
    "\n",
    "    \n",
    "    return phase"
   ]
  },
  {
   "cell_type": "code",
   "execution_count": null,
   "id": "0419216f-0fac-40ca-af3d-135e5e16a7d8",
   "metadata": {},
   "outputs": [],
   "source": [
    "rads = data[:,0]\n",
    "fx = np.fft.fftfreq(n,d=voxelsize)\n",
    "[fx,fy] = np.meshgrid(fx,fx)\n",
    "alpha = 1e-7\n",
    "wlen = 1.23984198e-7/33.35\n",
    "delta_beta = 2.3754525801944482e-07/9.488849121350568e-11\n",
    "rec = multiPaganin(rads, wlen, distances, delta_beta, fx, fy, alpha)\n",
    "fig, axs = plt.subplots(1, 2, figsize=(12, 4))\n",
    "im=axs[0].imshow(rec,cmap='gray')\n",
    "fig.colorbar(im)\n",
    "im=axs[1].plot(rec[nz//2])"
   ]
  },
  {
   "cell_type": "markdown",
   "id": "f82d24b8-f7d5-4607-bc9b-544d40bfd411",
   "metadata": {},
   "source": [
    "# Solve with the CTF method "
   ]
  },
  {
   "cell_type": "code",
   "execution_count": null,
   "id": "07f6ab2d-3e5f-435b-bc79-58bba2d60c84",
   "metadata": {},
   "outputs": [],
   "source": [
    "def CTF(rads, wlen, dists, fx, fy, alpha):\n",
    "    \"\"\"\n",
    "    Phase retrieval method based on Contrast Transfer Function.    This \n",
    "    method assumes weak absoprtion and slowly varying phase shift.\n",
    "    Derived from Langer et al., 2008: Quantitative comparison of direct\n",
    "    phase retrieval algorithms.\n",
    "\n",
    "    Parameters\n",
    "    ----------\n",
    "    rads : list of 2D-array\n",
    "        Elements of the list correspond to projections of the sample\n",
    "        taken at different distance. One projection per element.\n",
    "    wlen : float\n",
    "        X-ray wavelentgth assumes monochromatic source.\n",
    "    dists : list of float\n",
    "        Object to detector distance (propagation distance) in mm. One \n",
    "        distance per element.\n",
    "    fx, fy : ndarray\n",
    "        Fourier conjugate / spatial frequency coordinates of x and y.\n",
    "    alpha : float\n",
    "        regularization factor.\n",
    "        \n",
    "    Return\n",
    "    ------\n",
    "\n",
    "    phase retrieved projection in real space\n",
    "\n",
    "    \"\"\"\n",
    "\n",
    "    A = np.zeros((rads[0].shape[0], rads[0].shape[1]))\n",
    "    B = np.zeros((rads[0].shape[0], rads[0].shape[1]))\n",
    "    C = np.zeros((rads[0].shape[0], rads[0].shape[1]))\n",
    "    E = np.zeros((rads[0].shape[0], rads[0].shape[1]))\n",
    "    F = np.zeros((rads[0].shape[0], rads[0].shape[1]))\n",
    "\n",
    "    for j in range(0,len(dists)):\n",
    "        sin = 2*np.sin(np.pi*wlen*dists[j]*(fx**2+fy**2)) \n",
    "        cos = 2*np.cos(np.pi*wlen*dists[j]*(fx**2+fy**2)) \n",
    "        A = A + sin * cos\n",
    "        B = B + sin * sin\n",
    "        C = C + cos * cos\n",
    "        rad_freq = np.fft.fft2(rads[j])\n",
    "        E = E + rad_freq * sin\n",
    "        F = F + rad_freq * cos\n",
    "    A = A / len(dists)\n",
    "    B = B / len(dists)\n",
    "    C = C / len(dists)    \n",
    "    Delta = B * C - A**2\n",
    "    \n",
    "    phase = (C * E - A * F)    * (1 / (2*Delta+alpha)) \n",
    "    phase[0,0] = 0. + 0.j\n",
    "    phase = np.fft.ifft2(phase)\n",
    "    phase = np.real(phase)\n",
    "\n",
    "    return -phase\n"
   ]
  },
  {
   "cell_type": "code",
   "execution_count": null,
   "id": "e0212cad-133f-48d0-add2-ab9709e10c50",
   "metadata": {},
   "outputs": [],
   "source": [
    "rads = data[:,0]\n",
    "fx = np.fft.fftfreq(n,d=voxelsize)\n",
    "[fx,fy] = np.meshgrid(fx,fx)\n",
    "alpha = 1e-12\n",
    "wlen = 1.23984198e-7/33.35\n",
    "rec = CTF(rads, wlen, distances, fx, fy, alpha)\n",
    "\n",
    "fig, axs = plt.subplots(1, 2, figsize=(12, 4))\n",
    "im=axs[0].imshow(rec,cmap='gray')\n",
    "fig.colorbar(im)\n",
    "im=axs[1].plot(rec[nz//2])"
   ]
  }
 ],
 "metadata": {
  "kernelspec": {
   "display_name": "Python 3 (ipykernel)",
   "language": "python",
   "name": "python3"
  },
  "language_info": {
   "codemirror_mode": {
    "name": "ipython",
    "version": 3
   },
   "file_extension": ".py",
   "mimetype": "text/x-python",
   "name": "python",
   "nbconvert_exporter": "python",
   "pygments_lexer": "ipython3",
   "version": "3.11.6"
  }
 },
 "nbformat": 4,
 "nbformat_minor": 5
}
